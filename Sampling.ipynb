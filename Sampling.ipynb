{
  "nbformat": 4,
  "nbformat_minor": 0,
  "metadata": {
    "colab": {
      "provenance": []
    },
    "kernelspec": {
      "name": "python3",
      "display_name": "Python 3"
    },
    "language_info": {
      "name": "python"
    }
  },
  "cells": [
    {
      "cell_type": "markdown",
      "source": [
        "**Libraries**"
      ],
      "metadata": {
        "id": "wE7FSjTiN6tw"
      }
    },
    {
      "cell_type": "code",
      "execution_count": 1,
      "metadata": {
        "id": "50NtuFUfNpF6"
      },
      "outputs": [],
      "source": [
        "import pandas as pd\n",
        "import numpy as np\n",
        "import pandas as pd\n",
        "import matplotlib.pyplot as plt\n",
        "from sklearn.model_selection import train_test_split\n",
        "from sklearn.linear_model import LogisticRegression\n",
        "from sklearn.naive_bayes import GaussianNB\n",
        "from sklearn.tree import DecisionTreeClassifier\n",
        "from sklearn.neighbors import KNeighborsClassifier\n",
        "from sklearn.svm import SVC\n",
        "from sklearn.metrics import accuracy_score\n",
        "\n",
        "import warnings\n",
        "warnings.filterwarnings(\"ignore\")"
      ]
    },
    {
      "cell_type": "markdown",
      "source": [
        "**Dataset and it's information**"
      ],
      "metadata": {
        "id": "rxCh375mP8p5"
      }
    },
    {
      "cell_type": "code",
      "source": [
        "data=pd.read_csv(\"Creditcard_data.csv\")\n",
        "data"
      ],
      "metadata": {
        "colab": {
          "base_uri": "https://localhost:8080/",
          "height": 443
        },
        "id": "RuxbLsGUON05",
        "outputId": "c2b53b94-9e9c-482a-b8a1-377fc382b0f0"
      },
      "execution_count": 2,
      "outputs": [
        {
          "output_type": "execute_result",
          "data": {
            "text/plain": [
              "     Time        V1        V2        V3        V4        V5        V6  \\\n",
              "0       0 -1.359807 -0.072781  2.536347  1.378155 -0.338321  0.462388   \n",
              "1       0  1.191857  0.266151  0.166480  0.448154  0.060018 -0.082361   \n",
              "2       1 -1.358354 -1.340163  1.773209  0.379780 -0.503198  1.800499   \n",
              "3       1 -0.966272 -0.185226  1.792993 -0.863291 -0.010309  1.247203   \n",
              "4       2 -1.158233  0.877737  1.548718  0.403034 -0.407193  0.095921   \n",
              "..    ...       ...       ...       ...       ...       ...       ...   \n",
              "767   575 -0.572263  0.731748  1.541254  0.150506  1.108974  0.372152   \n",
              "768   579 -1.296845 -0.511605  2.404726 -0.310762 -0.319551 -0.542842   \n",
              "769   579  1.214170  0.210481  0.484651  0.479768 -0.261955 -0.527039   \n",
              "770   580  1.267030 -0.071114  0.037680  0.512683  0.242392  0.705212   \n",
              "771   581  1.153758  0.132273  0.382969  1.405063 -0.224287 -0.197295   \n",
              "\n",
              "           V7        V8        V9  ...       V21       V22       V23  \\\n",
              "0    0.239599  0.098698  0.363787  ... -0.018307  0.277838 -0.110474   \n",
              "1   -0.078803  0.085102 -0.255425  ... -0.225775 -0.638672  0.101288   \n",
              "2    0.791461  0.247676 -1.514654  ...  0.247998  0.771679  0.909412   \n",
              "3    0.237609  0.377436 -1.387024  ... -0.108300  0.005274 -0.190321   \n",
              "4    0.592941 -0.270533  0.817739  ... -0.009431  0.798278 -0.137458   \n",
              "..        ...       ...       ...  ...       ...       ...       ...   \n",
              "767  1.084879 -0.146329 -0.274447  ... -0.143508 -0.107582 -0.418263   \n",
              "768 -0.173310  0.260423 -1.202688  ... -0.071270 -0.161175  0.088496   \n",
              "769  0.021782 -0.106888 -0.037631  ... -0.224292 -0.594609  0.159877   \n",
              "770 -0.226582  0.109483  0.657565  ... -0.164468 -0.177225 -0.222918   \n",
              "771  0.020653  0.029260  0.412254  ... -0.107809 -0.125231 -0.057041   \n",
              "\n",
              "          V24       V25       V26       V27       V28  Amount  Class  \n",
              "0    0.066928  0.128539 -0.189115  0.133558 -0.021053  149.62      0  \n",
              "1   -0.339846  0.167170  0.125895 -0.008983  0.014724    2.69      1  \n",
              "2   -0.689281 -0.327642 -0.139097 -0.055353 -0.059752  378.66      0  \n",
              "3   -1.175575  0.647376 -0.221929  0.062723  0.061458  123.50      0  \n",
              "4    0.141267 -0.206010  0.502292  0.219422  0.215153   69.99      0  \n",
              "..        ...       ...       ...       ...       ...     ...    ...  \n",
              "767 -0.731029  0.877525 -0.364150 -0.177509 -0.256545   26.72      0  \n",
              "768  0.285390  0.281069 -0.370130  0.043410  0.092318   80.00      0  \n",
              "769  0.091873  0.140964  0.227406 -0.017389  0.016030    5.98      0  \n",
              "770 -1.245505  0.678360  0.525059  0.002920 -0.003333   12.36      0  \n",
              "771  0.073082  0.633977 -0.310685  0.033590  0.015250   13.79      0  \n",
              "\n",
              "[772 rows x 31 columns]"
            ],
            "text/html": [
              "\n",
              "  <div id=\"df-7b81dacb-98f1-4298-9931-80efd1bd4ffd\" class=\"colab-df-container\">\n",
              "    <div>\n",
              "<style scoped>\n",
              "    .dataframe tbody tr th:only-of-type {\n",
              "        vertical-align: middle;\n",
              "    }\n",
              "\n",
              "    .dataframe tbody tr th {\n",
              "        vertical-align: top;\n",
              "    }\n",
              "\n",
              "    .dataframe thead th {\n",
              "        text-align: right;\n",
              "    }\n",
              "</style>\n",
              "<table border=\"1\" class=\"dataframe\">\n",
              "  <thead>\n",
              "    <tr style=\"text-align: right;\">\n",
              "      <th></th>\n",
              "      <th>Time</th>\n",
              "      <th>V1</th>\n",
              "      <th>V2</th>\n",
              "      <th>V3</th>\n",
              "      <th>V4</th>\n",
              "      <th>V5</th>\n",
              "      <th>V6</th>\n",
              "      <th>V7</th>\n",
              "      <th>V8</th>\n",
              "      <th>V9</th>\n",
              "      <th>...</th>\n",
              "      <th>V21</th>\n",
              "      <th>V22</th>\n",
              "      <th>V23</th>\n",
              "      <th>V24</th>\n",
              "      <th>V25</th>\n",
              "      <th>V26</th>\n",
              "      <th>V27</th>\n",
              "      <th>V28</th>\n",
              "      <th>Amount</th>\n",
              "      <th>Class</th>\n",
              "    </tr>\n",
              "  </thead>\n",
              "  <tbody>\n",
              "    <tr>\n",
              "      <th>0</th>\n",
              "      <td>0</td>\n",
              "      <td>-1.359807</td>\n",
              "      <td>-0.072781</td>\n",
              "      <td>2.536347</td>\n",
              "      <td>1.378155</td>\n",
              "      <td>-0.338321</td>\n",
              "      <td>0.462388</td>\n",
              "      <td>0.239599</td>\n",
              "      <td>0.098698</td>\n",
              "      <td>0.363787</td>\n",
              "      <td>...</td>\n",
              "      <td>-0.018307</td>\n",
              "      <td>0.277838</td>\n",
              "      <td>-0.110474</td>\n",
              "      <td>0.066928</td>\n",
              "      <td>0.128539</td>\n",
              "      <td>-0.189115</td>\n",
              "      <td>0.133558</td>\n",
              "      <td>-0.021053</td>\n",
              "      <td>149.62</td>\n",
              "      <td>0</td>\n",
              "    </tr>\n",
              "    <tr>\n",
              "      <th>1</th>\n",
              "      <td>0</td>\n",
              "      <td>1.191857</td>\n",
              "      <td>0.266151</td>\n",
              "      <td>0.166480</td>\n",
              "      <td>0.448154</td>\n",
              "      <td>0.060018</td>\n",
              "      <td>-0.082361</td>\n",
              "      <td>-0.078803</td>\n",
              "      <td>0.085102</td>\n",
              "      <td>-0.255425</td>\n",
              "      <td>...</td>\n",
              "      <td>-0.225775</td>\n",
              "      <td>-0.638672</td>\n",
              "      <td>0.101288</td>\n",
              "      <td>-0.339846</td>\n",
              "      <td>0.167170</td>\n",
              "      <td>0.125895</td>\n",
              "      <td>-0.008983</td>\n",
              "      <td>0.014724</td>\n",
              "      <td>2.69</td>\n",
              "      <td>1</td>\n",
              "    </tr>\n",
              "    <tr>\n",
              "      <th>2</th>\n",
              "      <td>1</td>\n",
              "      <td>-1.358354</td>\n",
              "      <td>-1.340163</td>\n",
              "      <td>1.773209</td>\n",
              "      <td>0.379780</td>\n",
              "      <td>-0.503198</td>\n",
              "      <td>1.800499</td>\n",
              "      <td>0.791461</td>\n",
              "      <td>0.247676</td>\n",
              "      <td>-1.514654</td>\n",
              "      <td>...</td>\n",
              "      <td>0.247998</td>\n",
              "      <td>0.771679</td>\n",
              "      <td>0.909412</td>\n",
              "      <td>-0.689281</td>\n",
              "      <td>-0.327642</td>\n",
              "      <td>-0.139097</td>\n",
              "      <td>-0.055353</td>\n",
              "      <td>-0.059752</td>\n",
              "      <td>378.66</td>\n",
              "      <td>0</td>\n",
              "    </tr>\n",
              "    <tr>\n",
              "      <th>3</th>\n",
              "      <td>1</td>\n",
              "      <td>-0.966272</td>\n",
              "      <td>-0.185226</td>\n",
              "      <td>1.792993</td>\n",
              "      <td>-0.863291</td>\n",
              "      <td>-0.010309</td>\n",
              "      <td>1.247203</td>\n",
              "      <td>0.237609</td>\n",
              "      <td>0.377436</td>\n",
              "      <td>-1.387024</td>\n",
              "      <td>...</td>\n",
              "      <td>-0.108300</td>\n",
              "      <td>0.005274</td>\n",
              "      <td>-0.190321</td>\n",
              "      <td>-1.175575</td>\n",
              "      <td>0.647376</td>\n",
              "      <td>-0.221929</td>\n",
              "      <td>0.062723</td>\n",
              "      <td>0.061458</td>\n",
              "      <td>123.50</td>\n",
              "      <td>0</td>\n",
              "    </tr>\n",
              "    <tr>\n",
              "      <th>4</th>\n",
              "      <td>2</td>\n",
              "      <td>-1.158233</td>\n",
              "      <td>0.877737</td>\n",
              "      <td>1.548718</td>\n",
              "      <td>0.403034</td>\n",
              "      <td>-0.407193</td>\n",
              "      <td>0.095921</td>\n",
              "      <td>0.592941</td>\n",
              "      <td>-0.270533</td>\n",
              "      <td>0.817739</td>\n",
              "      <td>...</td>\n",
              "      <td>-0.009431</td>\n",
              "      <td>0.798278</td>\n",
              "      <td>-0.137458</td>\n",
              "      <td>0.141267</td>\n",
              "      <td>-0.206010</td>\n",
              "      <td>0.502292</td>\n",
              "      <td>0.219422</td>\n",
              "      <td>0.215153</td>\n",
              "      <td>69.99</td>\n",
              "      <td>0</td>\n",
              "    </tr>\n",
              "    <tr>\n",
              "      <th>...</th>\n",
              "      <td>...</td>\n",
              "      <td>...</td>\n",
              "      <td>...</td>\n",
              "      <td>...</td>\n",
              "      <td>...</td>\n",
              "      <td>...</td>\n",
              "      <td>...</td>\n",
              "      <td>...</td>\n",
              "      <td>...</td>\n",
              "      <td>...</td>\n",
              "      <td>...</td>\n",
              "      <td>...</td>\n",
              "      <td>...</td>\n",
              "      <td>...</td>\n",
              "      <td>...</td>\n",
              "      <td>...</td>\n",
              "      <td>...</td>\n",
              "      <td>...</td>\n",
              "      <td>...</td>\n",
              "      <td>...</td>\n",
              "      <td>...</td>\n",
              "    </tr>\n",
              "    <tr>\n",
              "      <th>767</th>\n",
              "      <td>575</td>\n",
              "      <td>-0.572263</td>\n",
              "      <td>0.731748</td>\n",
              "      <td>1.541254</td>\n",
              "      <td>0.150506</td>\n",
              "      <td>1.108974</td>\n",
              "      <td>0.372152</td>\n",
              "      <td>1.084879</td>\n",
              "      <td>-0.146329</td>\n",
              "      <td>-0.274447</td>\n",
              "      <td>...</td>\n",
              "      <td>-0.143508</td>\n",
              "      <td>-0.107582</td>\n",
              "      <td>-0.418263</td>\n",
              "      <td>-0.731029</td>\n",
              "      <td>0.877525</td>\n",
              "      <td>-0.364150</td>\n",
              "      <td>-0.177509</td>\n",
              "      <td>-0.256545</td>\n",
              "      <td>26.72</td>\n",
              "      <td>0</td>\n",
              "    </tr>\n",
              "    <tr>\n",
              "      <th>768</th>\n",
              "      <td>579</td>\n",
              "      <td>-1.296845</td>\n",
              "      <td>-0.511605</td>\n",
              "      <td>2.404726</td>\n",
              "      <td>-0.310762</td>\n",
              "      <td>-0.319551</td>\n",
              "      <td>-0.542842</td>\n",
              "      <td>-0.173310</td>\n",
              "      <td>0.260423</td>\n",
              "      <td>-1.202688</td>\n",
              "      <td>...</td>\n",
              "      <td>-0.071270</td>\n",
              "      <td>-0.161175</td>\n",
              "      <td>0.088496</td>\n",
              "      <td>0.285390</td>\n",
              "      <td>0.281069</td>\n",
              "      <td>-0.370130</td>\n",
              "      <td>0.043410</td>\n",
              "      <td>0.092318</td>\n",
              "      <td>80.00</td>\n",
              "      <td>0</td>\n",
              "    </tr>\n",
              "    <tr>\n",
              "      <th>769</th>\n",
              "      <td>579</td>\n",
              "      <td>1.214170</td>\n",
              "      <td>0.210481</td>\n",
              "      <td>0.484651</td>\n",
              "      <td>0.479768</td>\n",
              "      <td>-0.261955</td>\n",
              "      <td>-0.527039</td>\n",
              "      <td>0.021782</td>\n",
              "      <td>-0.106888</td>\n",
              "      <td>-0.037631</td>\n",
              "      <td>...</td>\n",
              "      <td>-0.224292</td>\n",
              "      <td>-0.594609</td>\n",
              "      <td>0.159877</td>\n",
              "      <td>0.091873</td>\n",
              "      <td>0.140964</td>\n",
              "      <td>0.227406</td>\n",
              "      <td>-0.017389</td>\n",
              "      <td>0.016030</td>\n",
              "      <td>5.98</td>\n",
              "      <td>0</td>\n",
              "    </tr>\n",
              "    <tr>\n",
              "      <th>770</th>\n",
              "      <td>580</td>\n",
              "      <td>1.267030</td>\n",
              "      <td>-0.071114</td>\n",
              "      <td>0.037680</td>\n",
              "      <td>0.512683</td>\n",
              "      <td>0.242392</td>\n",
              "      <td>0.705212</td>\n",
              "      <td>-0.226582</td>\n",
              "      <td>0.109483</td>\n",
              "      <td>0.657565</td>\n",
              "      <td>...</td>\n",
              "      <td>-0.164468</td>\n",
              "      <td>-0.177225</td>\n",
              "      <td>-0.222918</td>\n",
              "      <td>-1.245505</td>\n",
              "      <td>0.678360</td>\n",
              "      <td>0.525059</td>\n",
              "      <td>0.002920</td>\n",
              "      <td>-0.003333</td>\n",
              "      <td>12.36</td>\n",
              "      <td>0</td>\n",
              "    </tr>\n",
              "    <tr>\n",
              "      <th>771</th>\n",
              "      <td>581</td>\n",
              "      <td>1.153758</td>\n",
              "      <td>0.132273</td>\n",
              "      <td>0.382969</td>\n",
              "      <td>1.405063</td>\n",
              "      <td>-0.224287</td>\n",
              "      <td>-0.197295</td>\n",
              "      <td>0.020653</td>\n",
              "      <td>0.029260</td>\n",
              "      <td>0.412254</td>\n",
              "      <td>...</td>\n",
              "      <td>-0.107809</td>\n",
              "      <td>-0.125231</td>\n",
              "      <td>-0.057041</td>\n",
              "      <td>0.073082</td>\n",
              "      <td>0.633977</td>\n",
              "      <td>-0.310685</td>\n",
              "      <td>0.033590</td>\n",
              "      <td>0.015250</td>\n",
              "      <td>13.79</td>\n",
              "      <td>0</td>\n",
              "    </tr>\n",
              "  </tbody>\n",
              "</table>\n",
              "<p>772 rows × 31 columns</p>\n",
              "</div>\n",
              "    <div class=\"colab-df-buttons\">\n",
              "\n",
              "  <div class=\"colab-df-container\">\n",
              "    <button class=\"colab-df-convert\" onclick=\"convertToInteractive('df-7b81dacb-98f1-4298-9931-80efd1bd4ffd')\"\n",
              "            title=\"Convert this dataframe to an interactive table.\"\n",
              "            style=\"display:none;\">\n",
              "\n",
              "  <svg xmlns=\"http://www.w3.org/2000/svg\" height=\"24px\" viewBox=\"0 -960 960 960\">\n",
              "    <path d=\"M120-120v-720h720v720H120Zm60-500h600v-160H180v160Zm220 220h160v-160H400v160Zm0 220h160v-160H400v160ZM180-400h160v-160H180v160Zm440 0h160v-160H620v160ZM180-180h160v-160H180v160Zm440 0h160v-160H620v160Z\"/>\n",
              "  </svg>\n",
              "    </button>\n",
              "\n",
              "  <style>\n",
              "    .colab-df-container {\n",
              "      display:flex;\n",
              "      gap: 12px;\n",
              "    }\n",
              "\n",
              "    .colab-df-convert {\n",
              "      background-color: #E8F0FE;\n",
              "      border: none;\n",
              "      border-radius: 50%;\n",
              "      cursor: pointer;\n",
              "      display: none;\n",
              "      fill: #1967D2;\n",
              "      height: 32px;\n",
              "      padding: 0 0 0 0;\n",
              "      width: 32px;\n",
              "    }\n",
              "\n",
              "    .colab-df-convert:hover {\n",
              "      background-color: #E2EBFA;\n",
              "      box-shadow: 0px 1px 2px rgba(60, 64, 67, 0.3), 0px 1px 3px 1px rgba(60, 64, 67, 0.15);\n",
              "      fill: #174EA6;\n",
              "    }\n",
              "\n",
              "    .colab-df-buttons div {\n",
              "      margin-bottom: 4px;\n",
              "    }\n",
              "\n",
              "    [theme=dark] .colab-df-convert {\n",
              "      background-color: #3B4455;\n",
              "      fill: #D2E3FC;\n",
              "    }\n",
              "\n",
              "    [theme=dark] .colab-df-convert:hover {\n",
              "      background-color: #434B5C;\n",
              "      box-shadow: 0px 1px 3px 1px rgba(0, 0, 0, 0.15);\n",
              "      filter: drop-shadow(0px 1px 2px rgba(0, 0, 0, 0.3));\n",
              "      fill: #FFFFFF;\n",
              "    }\n",
              "  </style>\n",
              "\n",
              "    <script>\n",
              "      const buttonEl =\n",
              "        document.querySelector('#df-7b81dacb-98f1-4298-9931-80efd1bd4ffd button.colab-df-convert');\n",
              "      buttonEl.style.display =\n",
              "        google.colab.kernel.accessAllowed ? 'block' : 'none';\n",
              "\n",
              "      async function convertToInteractive(key) {\n",
              "        const element = document.querySelector('#df-7b81dacb-98f1-4298-9931-80efd1bd4ffd');\n",
              "        const dataTable =\n",
              "          await google.colab.kernel.invokeFunction('convertToInteractive',\n",
              "                                                    [key], {});\n",
              "        if (!dataTable) return;\n",
              "\n",
              "        const docLinkHtml = 'Like what you see? Visit the ' +\n",
              "          '<a target=\"_blank\" href=https://colab.research.google.com/notebooks/data_table.ipynb>data table notebook</a>'\n",
              "          + ' to learn more about interactive tables.';\n",
              "        element.innerHTML = '';\n",
              "        dataTable['output_type'] = 'display_data';\n",
              "        await google.colab.output.renderOutput(dataTable, element);\n",
              "        const docLink = document.createElement('div');\n",
              "        docLink.innerHTML = docLinkHtml;\n",
              "        element.appendChild(docLink);\n",
              "      }\n",
              "    </script>\n",
              "  </div>\n",
              "\n",
              "\n",
              "<div id=\"df-89e4a22b-2f74-49b6-ad05-dd54539c54ee\">\n",
              "  <button class=\"colab-df-quickchart\" onclick=\"quickchart('df-89e4a22b-2f74-49b6-ad05-dd54539c54ee')\"\n",
              "            title=\"Suggest charts\"\n",
              "            style=\"display:none;\">\n",
              "\n",
              "<svg xmlns=\"http://www.w3.org/2000/svg\" height=\"24px\"viewBox=\"0 0 24 24\"\n",
              "     width=\"24px\">\n",
              "    <g>\n",
              "        <path d=\"M19 3H5c-1.1 0-2 .9-2 2v14c0 1.1.9 2 2 2h14c1.1 0 2-.9 2-2V5c0-1.1-.9-2-2-2zM9 17H7v-7h2v7zm4 0h-2V7h2v10zm4 0h-2v-4h2v4z\"/>\n",
              "    </g>\n",
              "</svg>\n",
              "  </button>\n",
              "\n",
              "<style>\n",
              "  .colab-df-quickchart {\n",
              "      --bg-color: #E8F0FE;\n",
              "      --fill-color: #1967D2;\n",
              "      --hover-bg-color: #E2EBFA;\n",
              "      --hover-fill-color: #174EA6;\n",
              "      --disabled-fill-color: #AAA;\n",
              "      --disabled-bg-color: #DDD;\n",
              "  }\n",
              "\n",
              "  [theme=dark] .colab-df-quickchart {\n",
              "      --bg-color: #3B4455;\n",
              "      --fill-color: #D2E3FC;\n",
              "      --hover-bg-color: #434B5C;\n",
              "      --hover-fill-color: #FFFFFF;\n",
              "      --disabled-bg-color: #3B4455;\n",
              "      --disabled-fill-color: #666;\n",
              "  }\n",
              "\n",
              "  .colab-df-quickchart {\n",
              "    background-color: var(--bg-color);\n",
              "    border: none;\n",
              "    border-radius: 50%;\n",
              "    cursor: pointer;\n",
              "    display: none;\n",
              "    fill: var(--fill-color);\n",
              "    height: 32px;\n",
              "    padding: 0;\n",
              "    width: 32px;\n",
              "  }\n",
              "\n",
              "  .colab-df-quickchart:hover {\n",
              "    background-color: var(--hover-bg-color);\n",
              "    box-shadow: 0 1px 2px rgba(60, 64, 67, 0.3), 0 1px 3px 1px rgba(60, 64, 67, 0.15);\n",
              "    fill: var(--button-hover-fill-color);\n",
              "  }\n",
              "\n",
              "  .colab-df-quickchart-complete:disabled,\n",
              "  .colab-df-quickchart-complete:disabled:hover {\n",
              "    background-color: var(--disabled-bg-color);\n",
              "    fill: var(--disabled-fill-color);\n",
              "    box-shadow: none;\n",
              "  }\n",
              "\n",
              "  .colab-df-spinner {\n",
              "    border: 2px solid var(--fill-color);\n",
              "    border-color: transparent;\n",
              "    border-bottom-color: var(--fill-color);\n",
              "    animation:\n",
              "      spin 1s steps(1) infinite;\n",
              "  }\n",
              "\n",
              "  @keyframes spin {\n",
              "    0% {\n",
              "      border-color: transparent;\n",
              "      border-bottom-color: var(--fill-color);\n",
              "      border-left-color: var(--fill-color);\n",
              "    }\n",
              "    20% {\n",
              "      border-color: transparent;\n",
              "      border-left-color: var(--fill-color);\n",
              "      border-top-color: var(--fill-color);\n",
              "    }\n",
              "    30% {\n",
              "      border-color: transparent;\n",
              "      border-left-color: var(--fill-color);\n",
              "      border-top-color: var(--fill-color);\n",
              "      border-right-color: var(--fill-color);\n",
              "    }\n",
              "    40% {\n",
              "      border-color: transparent;\n",
              "      border-right-color: var(--fill-color);\n",
              "      border-top-color: var(--fill-color);\n",
              "    }\n",
              "    60% {\n",
              "      border-color: transparent;\n",
              "      border-right-color: var(--fill-color);\n",
              "    }\n",
              "    80% {\n",
              "      border-color: transparent;\n",
              "      border-right-color: var(--fill-color);\n",
              "      border-bottom-color: var(--fill-color);\n",
              "    }\n",
              "    90% {\n",
              "      border-color: transparent;\n",
              "      border-bottom-color: var(--fill-color);\n",
              "    }\n",
              "  }\n",
              "</style>\n",
              "\n",
              "  <script>\n",
              "    async function quickchart(key) {\n",
              "      const quickchartButtonEl =\n",
              "        document.querySelector('#' + key + ' button');\n",
              "      quickchartButtonEl.disabled = true;  // To prevent multiple clicks.\n",
              "      quickchartButtonEl.classList.add('colab-df-spinner');\n",
              "      try {\n",
              "        const charts = await google.colab.kernel.invokeFunction(\n",
              "            'suggestCharts', [key], {});\n",
              "      } catch (error) {\n",
              "        console.error('Error during call to suggestCharts:', error);\n",
              "      }\n",
              "      quickchartButtonEl.classList.remove('colab-df-spinner');\n",
              "      quickchartButtonEl.classList.add('colab-df-quickchart-complete');\n",
              "    }\n",
              "    (() => {\n",
              "      let quickchartButtonEl =\n",
              "        document.querySelector('#df-89e4a22b-2f74-49b6-ad05-dd54539c54ee button');\n",
              "      quickchartButtonEl.style.display =\n",
              "        google.colab.kernel.accessAllowed ? 'block' : 'none';\n",
              "    })();\n",
              "  </script>\n",
              "</div>\n",
              "\n",
              "  <div id=\"id_b8d9923a-0cff-4160-9d23-9e5ee2c0ecfb\">\n",
              "    <style>\n",
              "      .colab-df-generate {\n",
              "        background-color: #E8F0FE;\n",
              "        border: none;\n",
              "        border-radius: 50%;\n",
              "        cursor: pointer;\n",
              "        display: none;\n",
              "        fill: #1967D2;\n",
              "        height: 32px;\n",
              "        padding: 0 0 0 0;\n",
              "        width: 32px;\n",
              "      }\n",
              "\n",
              "      .colab-df-generate:hover {\n",
              "        background-color: #E2EBFA;\n",
              "        box-shadow: 0px 1px 2px rgba(60, 64, 67, 0.3), 0px 1px 3px 1px rgba(60, 64, 67, 0.15);\n",
              "        fill: #174EA6;\n",
              "      }\n",
              "\n",
              "      [theme=dark] .colab-df-generate {\n",
              "        background-color: #3B4455;\n",
              "        fill: #D2E3FC;\n",
              "      }\n",
              "\n",
              "      [theme=dark] .colab-df-generate:hover {\n",
              "        background-color: #434B5C;\n",
              "        box-shadow: 0px 1px 3px 1px rgba(0, 0, 0, 0.15);\n",
              "        filter: drop-shadow(0px 1px 2px rgba(0, 0, 0, 0.3));\n",
              "        fill: #FFFFFF;\n",
              "      }\n",
              "    </style>\n",
              "    <button class=\"colab-df-generate\" onclick=\"generateWithVariable('data')\"\n",
              "            title=\"Generate code using this dataframe.\"\n",
              "            style=\"display:none;\">\n",
              "\n",
              "  <svg xmlns=\"http://www.w3.org/2000/svg\" height=\"24px\"viewBox=\"0 0 24 24\"\n",
              "       width=\"24px\">\n",
              "    <path d=\"M7,19H8.4L18.45,9,17,7.55,7,17.6ZM5,21V16.75L18.45,3.32a2,2,0,0,1,2.83,0l1.4,1.43a1.91,1.91,0,0,1,.58,1.4,1.91,1.91,0,0,1-.58,1.4L9.25,21ZM18.45,9,17,7.55Zm-12,3A5.31,5.31,0,0,0,4.9,8.1,5.31,5.31,0,0,0,1,6.5,5.31,5.31,0,0,0,4.9,4.9,5.31,5.31,0,0,0,6.5,1,5.31,5.31,0,0,0,8.1,4.9,5.31,5.31,0,0,0,12,6.5,5.46,5.46,0,0,0,6.5,12Z\"/>\n",
              "  </svg>\n",
              "    </button>\n",
              "    <script>\n",
              "      (() => {\n",
              "      const buttonEl =\n",
              "        document.querySelector('#id_b8d9923a-0cff-4160-9d23-9e5ee2c0ecfb button.colab-df-generate');\n",
              "      buttonEl.style.display =\n",
              "        google.colab.kernel.accessAllowed ? 'block' : 'none';\n",
              "\n",
              "      buttonEl.onclick = () => {\n",
              "        google.colab.notebook.generateWithVariable('data');\n",
              "      }\n",
              "      })();\n",
              "    </script>\n",
              "  </div>\n",
              "\n",
              "    </div>\n",
              "  </div>\n"
            ]
          },
          "metadata": {},
          "execution_count": 2
        }
      ]
    },
    {
      "cell_type": "code",
      "source": [
        "data.info()"
      ],
      "metadata": {
        "colab": {
          "base_uri": "https://localhost:8080/"
        },
        "id": "XotUCXdLO1O1",
        "outputId": "9b527029-9fb6-4c1d-e62c-c0f61e4783f7"
      },
      "execution_count": 3,
      "outputs": [
        {
          "output_type": "stream",
          "name": "stdout",
          "text": [
            "<class 'pandas.core.frame.DataFrame'>\n",
            "RangeIndex: 772 entries, 0 to 771\n",
            "Data columns (total 31 columns):\n",
            " #   Column  Non-Null Count  Dtype  \n",
            "---  ------  --------------  -----  \n",
            " 0   Time    772 non-null    int64  \n",
            " 1   V1      772 non-null    float64\n",
            " 2   V2      772 non-null    float64\n",
            " 3   V3      772 non-null    float64\n",
            " 4   V4      772 non-null    float64\n",
            " 5   V5      772 non-null    float64\n",
            " 6   V6      772 non-null    float64\n",
            " 7   V7      772 non-null    float64\n",
            " 8   V8      772 non-null    float64\n",
            " 9   V9      772 non-null    float64\n",
            " 10  V10     772 non-null    float64\n",
            " 11  V11     772 non-null    float64\n",
            " 12  V12     772 non-null    float64\n",
            " 13  V13     772 non-null    float64\n",
            " 14  V14     772 non-null    float64\n",
            " 15  V15     772 non-null    float64\n",
            " 16  V16     772 non-null    float64\n",
            " 17  V17     772 non-null    float64\n",
            " 18  V18     772 non-null    float64\n",
            " 19  V19     772 non-null    float64\n",
            " 20  V20     772 non-null    float64\n",
            " 21  V21     772 non-null    float64\n",
            " 22  V22     772 non-null    float64\n",
            " 23  V23     772 non-null    float64\n",
            " 24  V24     772 non-null    float64\n",
            " 25  V25     772 non-null    float64\n",
            " 26  V26     772 non-null    float64\n",
            " 27  V27     772 non-null    float64\n",
            " 28  V28     772 non-null    float64\n",
            " 29  Amount  772 non-null    float64\n",
            " 30  Class   772 non-null    int64  \n",
            "dtypes: float64(29), int64(2)\n",
            "memory usage: 187.1 KB\n"
          ]
        }
      ]
    },
    {
      "cell_type": "code",
      "source": [
        "data.nunique()"
      ],
      "metadata": {
        "colab": {
          "base_uri": "https://localhost:8080/"
        },
        "id": "fOlNZEvWO-Pu",
        "outputId": "7ca3aba9-6907-44e6-f099-023ddab1f3fe"
      },
      "execution_count": 4,
      "outputs": [
        {
          "output_type": "execute_result",
          "data": {
            "text/plain": [
              "Time      415\n",
              "V1        765\n",
              "V2        765\n",
              "V3        765\n",
              "V4        765\n",
              "V5        765\n",
              "V6        765\n",
              "V7        765\n",
              "V8        765\n",
              "V9        765\n",
              "V10       765\n",
              "V11       765\n",
              "V12       765\n",
              "V13       765\n",
              "V14       765\n",
              "V15       765\n",
              "V16       765\n",
              "V17       765\n",
              "V18       765\n",
              "V19       765\n",
              "V20       765\n",
              "V21       765\n",
              "V22       765\n",
              "V23       765\n",
              "V24       765\n",
              "V25       765\n",
              "V26       765\n",
              "V27       765\n",
              "V28       765\n",
              "Amount    523\n",
              "Class       2\n",
              "dtype: int64"
            ]
          },
          "metadata": {},
          "execution_count": 4
        }
      ]
    },
    {
      "cell_type": "code",
      "source": [
        "data.isnull().sum()"
      ],
      "metadata": {
        "colab": {
          "base_uri": "https://localhost:8080/"
        },
        "id": "vVmgWyqKPW4t",
        "outputId": "d02c0690-3776-4b7b-cbc8-47760f4da70f"
      },
      "execution_count": 5,
      "outputs": [
        {
          "output_type": "execute_result",
          "data": {
            "text/plain": [
              "Time      0\n",
              "V1        0\n",
              "V2        0\n",
              "V3        0\n",
              "V4        0\n",
              "V5        0\n",
              "V6        0\n",
              "V7        0\n",
              "V8        0\n",
              "V9        0\n",
              "V10       0\n",
              "V11       0\n",
              "V12       0\n",
              "V13       0\n",
              "V14       0\n",
              "V15       0\n",
              "V16       0\n",
              "V17       0\n",
              "V18       0\n",
              "V19       0\n",
              "V20       0\n",
              "V21       0\n",
              "V22       0\n",
              "V23       0\n",
              "V24       0\n",
              "V25       0\n",
              "V26       0\n",
              "V27       0\n",
              "V28       0\n",
              "Amount    0\n",
              "Class     0\n",
              "dtype: int64"
            ]
          },
          "metadata": {},
          "execution_count": 5
        }
      ]
    },
    {
      "cell_type": "code",
      "source": [
        "data[\"Class\"].value_counts()"
      ],
      "metadata": {
        "colab": {
          "base_uri": "https://localhost:8080/"
        },
        "id": "GHQnyYTJQTgN",
        "outputId": "d890df3c-c04d-4260-9cd4-b8d98742d809"
      },
      "execution_count": 6,
      "outputs": [
        {
          "output_type": "execute_result",
          "data": {
            "text/plain": [
              "0    763\n",
              "1      9\n",
              "Name: Class, dtype: int64"
            ]
          },
          "metadata": {},
          "execution_count": 6
        }
      ]
    },
    {
      "cell_type": "markdown",
      "source": [
        "**Balancing Classes**"
      ],
      "metadata": {
        "id": "PL4N8Q33Vp67"
      }
    },
    {
      "cell_type": "code",
      "source": [
        "from imblearn.over_sampling import RandomOverSampler\n",
        "from collections import Counter\n",
        "\n",
        "x = data.drop(['Class'], axis=1)\n",
        "y = data['Class']\n",
        "\n",
        "ros = RandomOverSampler(sampling_strategy=1.0)\n",
        "x_ros, y_ros = ros.fit_resample(x, y)\n",
        "\n",
        "print('Original dataset shape', Counter(y))\n",
        "print('Resample dataset shape', Counter(y_ros))"
      ],
      "metadata": {
        "colab": {
          "base_uri": "https://localhost:8080/"
        },
        "id": "hFko0CXBRzto",
        "outputId": "64b6d1eb-3706-400b-8663-8db54d3100aa"
      },
      "execution_count": 7,
      "outputs": [
        {
          "output_type": "stream",
          "name": "stdout",
          "text": [
            "Original dataset shape Counter({0: 763, 1: 9})\n",
            "Resample dataset shape Counter({0: 763, 1: 763})\n"
          ]
        }
      ]
    },
    {
      "cell_type": "code",
      "source": [
        "resampled_data = np.concatenate((x_ros, y_ros[:, np.newaxis]), axis=1)\n",
        "\n",
        "# Converting the concatenated array to a DataFrame\n",
        "columns = list(x.columns) + ['Class']\n",
        "df = pd.DataFrame(resampled_data, columns=columns)"
      ],
      "metadata": {
        "id": "zKtcww_cWR07"
      },
      "execution_count": 8,
      "outputs": []
    },
    {
      "cell_type": "code",
      "source": [
        "df.shape"
      ],
      "metadata": {
        "colab": {
          "base_uri": "https://localhost:8080/"
        },
        "id": "3b4B1XNJWZKb",
        "outputId": "261783cd-2993-412f-a76a-d1a24ed13b44"
      },
      "execution_count": 9,
      "outputs": [
        {
          "output_type": "execute_result",
          "data": {
            "text/plain": [
              "(1526, 31)"
            ]
          },
          "metadata": {},
          "execution_count": 9
        }
      ]
    },
    {
      "cell_type": "code",
      "source": [
        "df[\"Class\"].value_counts()"
      ],
      "metadata": {
        "colab": {
          "base_uri": "https://localhost:8080/"
        },
        "id": "jzSUsjfPWdot",
        "outputId": "9c5e437b-eee7-4326-db6b-9e9ca454ba16"
      },
      "execution_count": 10,
      "outputs": [
        {
          "output_type": "execute_result",
          "data": {
            "text/plain": [
              "0.0    763\n",
              "1.0    763\n",
              "Name: Class, dtype: int64"
            ]
          },
          "metadata": {},
          "execution_count": 10
        }
      ]
    },
    {
      "cell_type": "markdown",
      "source": [
        "**Simple random sampling**"
      ],
      "metadata": {
        "id": "h1-k_jzmVw9G"
      }
    },
    {
      "cell_type": "code",
      "source": [
        "srs = df.sample(n=450, random_state=42)\n",
        "srs.shape"
      ],
      "metadata": {
        "colab": {
          "base_uri": "https://localhost:8080/"
        },
        "id": "AQRewcwSVoD_",
        "outputId": "b0368a04-88cb-4c33-c5e3-d9e0e029b125"
      },
      "execution_count": 11,
      "outputs": [
        {
          "output_type": "execute_result",
          "data": {
            "text/plain": [
              "(450, 31)"
            ]
          },
          "metadata": {},
          "execution_count": 11
        }
      ]
    },
    {
      "cell_type": "code",
      "source": [
        "X = srs.drop('Class', axis=1)\n",
        "y = srs['Class']\n",
        "\n",
        "X_train, X_test, y_train, y_test = train_test_split(X, y, test_size=0.2, random_state=42)\n",
        "\n",
        "lr_model = LogisticRegression(max_iter=1000, random_state=42)\n",
        "svm_model = SVC(random_state=42)\n",
        "nb_model = GaussianNB()\n",
        "dt_model = DecisionTreeClassifier(max_depth=3,random_state=42)\n",
        "knn_model = KNeighborsClassifier()\n",
        "\n",
        "models = [lr_model, svm_model, nb_model, dt_model, knn_model]\n",
        "model_names = ['Logistic Regression ', 'SVM', ' Naive Bayes', 'Decision Trees', 'KNN']\n",
        "\n",
        "accuracies = []\n",
        "\n",
        "for model, name in zip(models, model_names):\n",
        "    model.fit(X_train, y_train)\n",
        "    y_pred = model.predict(X_test)\n",
        "    accuracy = accuracy_score(y_test, y_pred)\n",
        "    accuracies.append(accuracy)\n",
        "    print(f\"{name} Accuracy: {accuracy:.4f}\")\n",
        "\n",
        "fig, ax = plt.subplots()\n",
        "bars = ax.bar(model_names, accuracies, color='grey')\n",
        "\n",
        "ax.set_xlabel('Models')\n",
        "ax.set_ylabel('Accuracy')\n",
        "\n",
        "for bar, acc in zip(bars, accuracies):\n",
        "    yval = round(acc, 4)\n",
        "    plt.text(bar.get_x() + bar.get_width()/2, yval, f'{yval}', ha='center', va='bottom')\n",
        "\n",
        "plt.tight_layout()\n",
        "plt.show()"
      ],
      "metadata": {
        "colab": {
          "base_uri": "https://localhost:8080/",
          "height": 573
        },
        "id": "0EgPi-h6hmhP",
        "outputId": "3fc77cf3-6bbd-4b52-9612-640cdd0a1e24"
      },
      "execution_count": 12,
      "outputs": [
        {
          "output_type": "stream",
          "name": "stdout",
          "text": [
            "Logistic Regression  Accuracy: 0.8556\n",
            "SVM Accuracy: 0.6889\n",
            " Naive Bayes Accuracy: 0.7556\n",
            "Decision Trees Accuracy: 0.9222\n",
            "KNN Accuracy: 0.9556\n"
          ]
        },
        {
          "output_type": "display_data",
          "data": {
            "text/plain": [
              "<Figure size 640x480 with 1 Axes>"
            ],
            "image/png": "[encoded data removed]"
          },
          "metadata": {}
        }
      ]
    },
    {
      "cell_type": "markdown",
      "source": [
        "**Systematic Sampling**"
      ],
      "metadata": {
        "id": "KDuZGVJvm81b"
      }
    },
    {
      "cell_type": "code",
      "source": [
        "import random\n",
        "\n",
        "ss = df.sample(frac=1, random_state=42).reset_index(drop=True)\n",
        "\n",
        "sampling_interval = 3\n",
        "num_samples = len(ss)\n",
        "SystematicSample = ss.iloc[::sampling_interval]\n",
        "SystematicSample.shape"
      ],
      "metadata": {
        "id": "SRY61shNjrKy",
        "colab": {
          "base_uri": "https://localhost:8080/"
        },
        "outputId": "2c195317-9023-459e-98a4-ef189b26bdc8"
      },
      "execution_count": 13,
      "outputs": [
        {
          "output_type": "execute_result",
          "data": {
            "text/plain": [
              "(509, 31)"
            ]
          },
          "metadata": {},
          "execution_count": 13
        }
      ]
    },
    {
      "cell_type": "code",
      "source": [
        "X = SystematicSample.drop('Class', axis=1)\n",
        "y = SystematicSample['Class']\n",
        "\n",
        "X_train, X_test, y_train, y_test = train_test_split(X, y, test_size=0.2, random_state=42)\n",
        "\n",
        "lr_model = LogisticRegression(random_state=42)\n",
        "svm_model = SVC(random_state=42)\n",
        "nb_model = GaussianNB()\n",
        "dt_model = DecisionTreeClassifier(random_state=42)\n",
        "knn_model = KNeighborsClassifier()\n",
        "\n",
        "models = [lr_model, svm_model, nb_model, dt_model, knn_model]\n",
        "model_names = ['Logistic Regression', 'SVM', 'Naive Bayes', 'Decision Trees', 'KNN']\n",
        "\n",
        "accuracies = []\n",
        "\n",
        "for model, name in zip(models, model_names):\n",
        "    model.fit(X_train, y_train)\n",
        "    y_pred = model.predict(X_test)\n",
        "    accuracy = accuracy_score(y_test, y_pred)\n",
        "    accuracies.append(accuracy)\n",
        "    print(f\"{name} Accuracy: {accuracy:.4f}\")\n",
        "\n",
        "fig, ax = plt.subplots()\n",
        "bars = ax.bar(model_names, accuracies, color='red')\n",
        "\n",
        "ax.set_xlabel('Models')\n",
        "ax.set_ylabel('Accuracy')\n",
        "\n",
        "for bar, acc in zip(bars, accuracies):\n",
        "    yval = round(acc, 4)\n",
        "    plt.text(bar.get_x() + bar.get_width()/2, yval, f'{yval}', ha='center', va='bottom')\n",
        "\n",
        "plt.tight_layout()\n",
        "plt.show()"
      ],
      "metadata": {
        "colab": {
          "base_uri": "https://localhost:8080/",
          "height": 573
        },
        "id": "_fPbnqHJjkdK",
        "outputId": "61918f32-6277-47a0-e68b-99977ef1f8dd"
      },
      "execution_count": 14,
      "outputs": [
        {
          "output_type": "stream",
          "name": "stdout",
          "text": [
            "Logistic Regression Accuracy: 0.9020\n",
            "SVM Accuracy: 0.6765\n",
            "Naive Bayes Accuracy: 0.7549\n",
            "Decision Trees Accuracy: 0.9608\n",
            "KNN Accuracy: 0.9118\n"
          ]
        },
        {
          "output_type": "display_data",
          "data": {
            "text/plain": [
              "<Figure size 640x480 with 1 Axes>"
            ],
            "image/png": "[encoded data removed]"
          },
          "metadata": {}
        }
      ]
    },
    {
      "cell_type": "markdown",
      "source": [
        "**Cluster Sampling**"
      ],
      "metadata": {
        "id": "9R-WR7j9kDt1"
      }
    },
    {
      "cell_type": "code",
      "source": [
        "from sklearn.cluster import KMeans\n",
        "random.seed(42)\n",
        "num_clusters = 10\n",
        "\n",
        "kmeans = KMeans(n_clusters=num_clusters, n_init='auto', random_state=42)\n",
        "\n",
        "clusters = kmeans.fit_predict(df)\n",
        "clusters = pd.Series(clusters)\n",
        "\n",
        "selected_clusters = random.sample(range(num_clusters), 3)\n",
        "ClusterSample = df.loc[clusters.isin(selected_clusters)]\n",
        "print(ClusterSample.shape)"
      ],
      "metadata": {
        "colab": {
          "base_uri": "https://localhost:8080/"
        },
        "id": "hmmYEuXyk9N-",
        "outputId": "31a84b73-2170-4112-9880-6f9384aa0559"
      },
      "execution_count": 15,
      "outputs": [
        {
          "output_type": "stream",
          "name": "stdout",
          "text": [
            "(718, 31)\n"
          ]
        }
      ]
    },
    {
      "cell_type": "code",
      "source": [
        "X = ClusterSample.drop('Class', axis=1)\n",
        "y = ClusterSample['Class']\n",
        "\n",
        "X_train, X_test, y_train, y_test = train_test_split(X, y, test_size=0.2, random_state=42)\n",
        "\n",
        "lr_model = LogisticRegression(random_state=42)\n",
        "svm_model = SVC(random_state=42)\n",
        "nb_model = GaussianNB()\n",
        "dt_model = DecisionTreeClassifier(random_state=42)\n",
        "knn_model = KNeighborsClassifier()\n",
        "\n",
        "models = [lr_model, svm_model, nb_model, dt_model, knn_model]\n",
        "model_names = ['Logistic Regression', 'SVM', 'Naive Bayes', 'Decision Trees', 'KNN']\n",
        "\n",
        "accuracies = []\n",
        "\n",
        "for model, name in zip(models, model_names):\n",
        "    model.fit(X_train, y_train)\n",
        "    y_pred = model.predict(X_test)\n",
        "    accuracy = accuracy_score(y_test, y_pred)\n",
        "    accuracies.append(accuracy)\n",
        "    print(f\"{name} Accuracy: {accuracy:.4f}\")\n",
        "\n",
        "fig, ax = plt.subplots()\n",
        "bars = ax.bar(model_names, accuracies, color='blue')\n",
        "\n",
        "ax.set_xlabel('Models')\n",
        "ax.set_ylabel('Accuracy')\n",
        "\n",
        "for bar, acc in zip(bars, accuracies):\n",
        "    yval = round(acc, 4)\n",
        "    plt.text(bar.get_x() + bar.get_width()/2, yval, f'{yval}', ha='center', va='bottom')\n",
        "\n",
        "plt.tight_layout()\n",
        "plt.show()"
      ],
      "metadata": {
        "colab": {
          "base_uri": "https://localhost:8080/",
          "height": 574
        },
        "id": "Scc2PM0Ck9KU",
        "outputId": "e8d6fc49-dac3-4df5-b338-05456ee4ed48"
      },
      "execution_count": 16,
      "outputs": [
        {
          "output_type": "stream",
          "name": "stdout",
          "text": [
            "Logistic Regression Accuracy: 0.9583\n",
            "SVM Accuracy: 0.8403\n",
            "Naive Bayes Accuracy: 0.9861\n",
            "Decision Trees Accuracy: 0.9931\n",
            "KNN Accuracy: 0.9861\n"
          ]
        },
        {
          "output_type": "display_data",
          "data": {
            "text/plain": [
              "<Figure size 640x480 with 1 Axes>"
            ],
            "image/png": "[encoded data removed]"
          },
          "metadata": {}
        }
      ]
    },
    {
      "cell_type": "markdown",
      "source": [
        "**Stratified Sampling**"
      ],
      "metadata": {
        "id": "ZKMnGmQNoUyr"
      }
    },
    {
      "cell_type": "code",
      "source": [
        "stratifiedsampling = df.groupby('Class', group_keys=False).apply(lambda x: x.sample(frac=0.6))"
      ],
      "metadata": {
        "id": "ZAfmSAe5o1-R"
      },
      "execution_count": 17,
      "outputs": []
    },
    {
      "cell_type": "code",
      "source": [
        "SS=stratifiedsampling.sample(frac= 0.45)\n",
        "SS.shape"
      ],
      "metadata": {
        "colab": {
          "base_uri": "https://localhost:8080/"
        },
        "id": "yAZLSsdYqmgK",
        "outputId": "2862a116-c9ca-412e-b991-e51e1dcf5c7d"
      },
      "execution_count": 18,
      "outputs": [
        {
          "output_type": "execute_result",
          "data": {
            "text/plain": [
              "(412, 31)"
            ]
          },
          "metadata": {},
          "execution_count": 18
        }
      ]
    },
    {
      "cell_type": "code",
      "source": [
        "X_ss = SS.drop('Class', axis=1)\n",
        "y_ss = SS['Class']\n",
        "\n",
        "X_train_ss, X_test_ss, y_train_ss, y_test_ss = train_test_split(X_ss, y_ss, test_size=0.2, random_state=42)\n",
        "\n",
        "lr_model_ss = LogisticRegression(random_state=42)\n",
        "svm_model_ss = SVC(random_state=42)\n",
        "nb_model_ss = GaussianNB()\n",
        "dt_model_ss = DecisionTreeClassifier(random_state=42)\n",
        "knn_model_ss = KNeighborsClassifier()\n",
        "\n",
        "models_ss = [lr_model_ss, svm_model_ss, nb_model_ss, dt_model_ss, knn_model_ss]\n",
        "model_names_ss = ['Logistic Regression', 'SVM', 'Naive Bayes', 'Decision Trees', 'KNN']\n",
        "\n",
        "accuracies_ss = []\n",
        "\n",
        "for model_ss, name_ss in zip(models_ss, model_names_ss):\n",
        "    model_ss.fit(X_train_ss, y_train_ss)\n",
        "    y_pred_ss = model_ss.predict(X_test_ss)\n",
        "    accuracy_ss = accuracy_score(y_test_ss, y_pred_ss)\n",
        "    accuracies_ss.append(accuracy_ss)\n",
        "    print(f\"{name_ss} Accuracy: {accuracy_ss:.4f}\")\n",
        "\n",
        "fig_ss, ax_ss = plt.subplots()\n",
        "bars_ss = ax_ss.bar(model_names_ss, accuracies_ss, color='orange')\n",
        "\n",
        "ax_ss.set_xlabel('Models')\n",
        "ax_ss.set_ylabel('Accuracy')\n",
        "\n",
        "for bar_ss, acc_ss in zip(bars_ss, accuracies_ss):\n",
        "    yval_ss = round(acc_ss, 4)\n",
        "    plt.text(bar_ss.get_x() + bar_ss.get_width()/2, yval_ss, f'{yval_ss}', ha='center', va='bottom')\n",
        "\n",
        "plt.tight_layout()\n",
        "plt.show()"
      ],
      "metadata": {
        "colab": {
          "base_uri": "https://localhost:8080/",
          "height": 574
        },
        "id": "8wwNJx0nsMVO",
        "outputId": "15c11916-fede-40b0-8f39-9d3ade1c80c1"
      },
      "execution_count": 19,
      "outputs": [
        {
          "output_type": "stream",
          "name": "stdout",
          "text": [
            "Logistic Regression Accuracy: 0.8554\n",
            "SVM Accuracy: 0.7952\n",
            "Naive Bayes Accuracy: 0.7831\n",
            "Decision Trees Accuracy: 0.9157\n",
            "KNN Accuracy: 0.9036\n"
          ]
        },
        {
          "output_type": "display_data",
          "data": {
            "text/plain": [
              "<Figure size 640x480 with 1 Axes>"
            ],
            "image/png": "[encoded data removed]"
          },
          "metadata": {}
        }
      ]
    },
    {
      "cell_type": "markdown",
      "source": [
        "**Bootstrap Sampling**"
      ],
      "metadata": {
        "id": "WddU5oD_sqIY"
      }
    },
    {
      "cell_type": "code",
      "source": [
        "n_bootstrap = 100\n",
        "desired_sample_size = 400\n",
        "\n",
        "bootstrap_samples = pd.DataFrame()\n",
        "\n",
        "for _ in range(n_bootstrap):\n",
        "    resampled_data = df.sample(n=len(df), replace=True, random_state=42)\n",
        "    bootstrap_samples = pd.concat([bootstrap_samples, resampled_data])\n",
        "\n",
        "    if bootstrap_samples.shape[0] >= desired_sample_size:\n",
        "        break\n",
        "\n",
        "bootstrap_samples = bootstrap_samples.iloc[:desired_sample_size, :]\n",
        "print(\"Final Shape of Bootstrap Samples DataFrame:\", bootstrap_samples.shape)"
      ],
      "metadata": {
        "colab": {
          "base_uri": "https://localhost:8080/"
        },
        "id": "MRKxdorKvvQ8",
        "outputId": "af303a85-7153-4106-c23a-acd5402b781e"
      },
      "execution_count": 20,
      "outputs": [
        {
          "output_type": "stream",
          "name": "stdout",
          "text": [
            "Final Shape of Bootstrap Samples DataFrame: (400, 31)\n"
          ]
        }
      ]
    },
    {
      "cell_type": "code",
      "source": [
        "X_bs = bootstrap_samples.drop('Class', axis=1)\n",
        "y_bs = bootstrap_samples['Class']\n",
        "\n",
        "X_train_bs, X_test_bs, y_train_bs, y_test_bs = train_test_split(X_bs, y_bs, test_size=0.2, random_state=42)\n",
        "\n",
        "lr_model_bs = LogisticRegression(random_state=42)\n",
        "svm_model_bs = SVC(random_state=42)\n",
        "nb_model_bs = GaussianNB()\n",
        "dt_model_bs = DecisionTreeClassifier(random_state=42)\n",
        "knn_model_bs = KNeighborsClassifier()\n",
        "\n",
        "models_bs = [lr_model_bs, svm_model_bs, nb_model_bs, dt_model_bs, knn_model_bs]\n",
        "model_names_bs = ['Logistic Regression', 'SVM', 'Naive Bayes', 'Decision Trees', 'KNN']\n",
        "\n",
        "accuracies_bs = []\n",
        "\n",
        "for model_bs, name_bs in zip(models_bs, model_names_bs):\n",
        "    model_bs.fit(X_train_bs, y_train_bs)\n",
        "    y_pred_bs = model_bs.predict(X_test_bs)\n",
        "    accuracy_bs = accuracy_score(y_test_bs, y_pred_bs)\n",
        "    accuracies_bs.append(accuracy_bs)\n",
        "    print(f\"{name_bs} Accuracy: {accuracy_bs:.4f}\")\n",
        "\n",
        "fig_bs, ax_bs = plt.subplots()\n",
        "bars_bs = ax_bs.bar(model_names_bs, accuracies_bs, color='green')\n",
        "\n",
        "ax_bs.set_xlabel('Models')\n",
        "ax_bs.set_ylabel('Accuracy')\n",
        "\n",
        "for bar_bs, acc_bs in zip(bars_bs, accuracies_bs):\n",
        "    yval_bs = round(acc_bs, 4)\n",
        "    plt.text(bar_bs.get_x() + bar_bs.get_width()/2, yval_bs, f'{yval_bs}', ha='center', va='bottom')\n",
        "\n",
        "plt.tight_layout()\n",
        "plt.show()"
      ],
      "metadata": {
        "colab": {
          "base_uri": "https://localhost:8080/",
          "height": 574
        },
        "id": "fGKNtKPPwHNR",
        "outputId": "090dd3d8-41fe-4343-c076-c462b909555d"
      },
      "execution_count": 21,
      "outputs": [
        {
          "output_type": "stream",
          "name": "stdout",
          "text": [
            "Logistic Regression Accuracy: 0.9375\n",
            "SVM Accuracy: 0.6875\n",
            "Naive Bayes Accuracy: 0.7250\n",
            "Decision Trees Accuracy: 0.9750\n",
            "KNN Accuracy: 0.9750\n"
          ]
        },
        {
          "output_type": "display_data",
          "data": {
            "text/plain": [
              "<Figure size 640x480 with 1 Axes>"
            ],
            "image/png": "[encoded data removed]"
          },
          "metadata": {}
        }
      ]
    }
  ]
}